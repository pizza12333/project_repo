{
 "cells": [
  {
   "cell_type": "markdown",
   "metadata": {},
   "source": [
    "## SK 데이터 허브 Rest API\n",
    "\n",
    "get_access 모듈을 통해 획득한 이용권한과 pid 파라미터를 통해 데이터를 Rest API방식으로 자동으로 수집하고, 수집된 Json파일을 csv로 정재한다."
   ]
  },
  {
   "cell_type": "code",
   "execution_count": 2,
   "metadata": {
    "collapsed": false
   },
   "outputs": [],
   "source": [
    "import json\n",
    "import os\n",
    "import time\n",
    "from urllib.request import urlopen\n",
    "from pandas.io.json import json_normalize\n",
    "from get_access import get_access"
   ]
  },
  {
   "cell_type": "code",
   "execution_count": 78,
   "metadata": {
    "collapsed": true
   },
   "outputs": [],
   "source": [
    "pids = get_access('your id', 'your pw', '치킨')"
   ]
  },
  {
   "cell_type": "code",
   "execution_count": 80,
   "metadata": {
    "collapsed": false
   },
 
   "source": [
    "directory = \"../data/\"\n",
    "token = 'your token key'\n",
    "\n",
    "df = pd.DataFrame(columns=['성별','시군구','시도','업종','연령대','요일','통화건수','년','월','일'])\n",
    "i = 0\n",
    "\n",
    "start_time = time.time()\n",
    "for num, pid in enumerate(pids):\n",
    "    page = 1\n",
    "    info_url = 'https://api.bigdatahub.co.kr/v1/datahub/datasets/datainfo.json?pid={0}&TDCAccessKey={1}'.format(pid,token)\n",
    "    con_url = 'https://api.bigdatahub.co.kr/v1/datahub/datasets/search.json?pid={0}&$count=1000&$page={2}&TDCAccessKey={1}'.format(pid,token,page)\n",
    "    print(pid)\n",
    "    print(time.time()-start_time)\n",
    "    print(i, df.shape)\n",
    "    response_info = urlopen(info_url).read().decode('utf-8')\n",
    "    response_con = urlopen(con_url).read().decode('utf-8')\n",
    "    page_max = round(json.loads(response_con)['totalResult']/1000)\n",
    "    \n",
    "    json_f = json.loads(response_con)\n",
    "    csv = json_normalize(json_f['entry'])\n",
    "    csv['년'] = csv['기준일'].apply(lambda x : x[:4])\n",
    "    csv['월'] = csv['기준일'].apply(lambda x : x[4:6])\n",
    "    csv['일'] =  csv['기준일'].apply(lambda x : x[6:8])\n",
    "    csv.drop('기준일', axis=1, inplace=True)\n",
    "    \n",
    "    df = pd.concat([df,csv], axis=0)\n",
    "    i += 1 \n",
    "    with open(directory + json.loads(response_info)['productName'] + '_=' + str(page) + '.json', 'w', encoding='utf-8') as f:\n",
    "        f.write(response_con)\n",
    "    \n",
    "    for page in range(1,page_max+1):\n",
    "        # print(page)\n",
    "        con_url = 'https://api.bigdatahub.co.kr/v1/datahub/datasets/search.json?pid={0}&$count=1000&$page={2}&TDCAccessKey={1}'.format(pid,token,page)\n",
    "        response_con = urlopen(con_url).read().decode('utf-8')\n",
    "        \n",
    "        json_f = json.loads(response_con)\n",
    "        csv = json_normalize(json_f['entry'])\n",
    "        csv['년'] = csv['기준일'].apply(lambda x : x[:4])\n",
    "        csv['월'] = csv['기준일'].apply(lambda x : x[4:6])\n",
    "        csv['일'] =  csv['기준일'].apply(lambda x : x[6:8])\n",
    "        csv.drop('기준일', axis=1, inplace=True)\n",
    "        df = pd.concat([df,csv], axis=0)\n",
    "        i += 1 \n",
    "        print(time.time()-start_time)\n",
    "        print(i, df.shape)\n",
    "        with open(directory + json.loads(response_info)['productName'] +'_=' + str(page) +'.json', 'w', encoding='utf-8') as f:\n",
    "            f.write(response_con)\n",
    "            \n",
    "        \n",
    "        \n",
    "       "
   ]
  },
  {
   "cell_type": "code",
   "execution_count": 82,
   "metadata": {
    "collapsed": false
   },
   "outputs": [
    {
     "data": {
      "text/html": [
       "<div>\n",
       "<table border=\"1\" class=\"dataframe\">\n",
       "  <thead>\n",
       "    <tr style=\"text-align: right;\">\n",
       "      <th></th>\n",
       "      <th>년</th>\n",
       "      <th>성별</th>\n",
       "      <th>시군구</th>\n",
       "      <th>시도</th>\n",
       "      <th>업종</th>\n",
       "      <th>연령대</th>\n",
       "      <th>요일</th>\n",
       "      <th>월</th>\n",
       "      <th>읍면동</th>\n",
       "      <th>이용건수</th>\n",
       "      <th>일</th>\n",
       "      <th>통화건수</th>\n",
       "    </tr>\n",
       "  </thead>\n",
       "  <tbody>\n",
       "    <tr>\n",
       "      <th>0</th>\n",
       "      <td>2017</td>\n",
       "      <td>남</td>\n",
       "      <td>강남구</td>\n",
       "      <td>서울특별시</td>\n",
       "      <td>치킨</td>\n",
       "      <td>40대</td>\n",
       "      <td>일</td>\n",
       "      <td>01</td>\n",
       "      <td>개포동</td>\n",
       "      <td>NaN</td>\n",
       "      <td>01</td>\n",
       "      <td>9</td>\n",
       "    </tr>\n",
       "    <tr>\n",
       "      <th>1</th>\n",
       "      <td>2017</td>\n",
       "      <td>남</td>\n",
       "      <td>강남구</td>\n",
       "      <td>서울특별시</td>\n",
       "      <td>치킨</td>\n",
       "      <td>60대이상</td>\n",
       "      <td>일</td>\n",
       "      <td>01</td>\n",
       "      <td>세곡동</td>\n",
       "      <td>NaN</td>\n",
       "      <td>01</td>\n",
       "      <td>5</td>\n",
       "    </tr>\n",
       "    <tr>\n",
       "      <th>2</th>\n",
       "      <td>2017</td>\n",
       "      <td>여</td>\n",
       "      <td>강남구</td>\n",
       "      <td>서울특별시</td>\n",
       "      <td>치킨</td>\n",
       "      <td>40대</td>\n",
       "      <td>일</td>\n",
       "      <td>01</td>\n",
       "      <td>역삼동</td>\n",
       "      <td>NaN</td>\n",
       "      <td>01</td>\n",
       "      <td>36</td>\n",
       "    </tr>\n",
       "    <tr>\n",
       "      <th>3</th>\n",
       "      <td>2017</td>\n",
       "      <td>여</td>\n",
       "      <td>강남구</td>\n",
       "      <td>서울특별시</td>\n",
       "      <td>치킨</td>\n",
       "      <td>40대</td>\n",
       "      <td>일</td>\n",
       "      <td>01</td>\n",
       "      <td>일원동</td>\n",
       "      <td>NaN</td>\n",
       "      <td>01</td>\n",
       "      <td>12</td>\n",
       "    </tr>\n",
       "    <tr>\n",
       "      <th>4</th>\n",
       "      <td>2017</td>\n",
       "      <td>여</td>\n",
       "      <td>강남구</td>\n",
       "      <td>서울특별시</td>\n",
       "      <td>치킨</td>\n",
       "      <td>40대</td>\n",
       "      <td>일</td>\n",
       "      <td>01</td>\n",
       "      <td>도곡동</td>\n",
       "      <td>NaN</td>\n",
       "      <td>01</td>\n",
       "      <td>17</td>\n",
       "    </tr>\n",
       "  </tbody>\n",
       "</table>\n",
       "</div>"
      ],
      "text/plain": [
       "      년 성별  시군구     시도  업종    연령대 요일   월  읍면동 이용건수   일 통화건수\n",
       "0  2017  남  강남구  서울특별시  치킨    40대  일  01  개포동  NaN  01    9\n",
       "1  2017  남  강남구  서울특별시  치킨  60대이상  일  01  세곡동  NaN  01    5\n",
       "2  2017  여  강남구  서울특별시  치킨    40대  일  01  역삼동  NaN  01   36\n",
       "3  2017  여  강남구  서울특별시  치킨    40대  일  01  일원동  NaN  01   12\n",
       "4  2017  여  강남구  서울특별시  치킨    40대  일  01  도곡동  NaN  01   17"
      ]
     },
     "execution_count": 82,
     "metadata": {},
     "output_type": "execute_result"
    }
   ],
   "source": [
    "df.head()"
   ]
  }
 ],
 "metadata": {
  "anaconda-cloud": {},
  "kernelspec": {
   "display_name": "Python [conda root]",
   "language": "python",
   "name": "conda-root-py"
  },
  "language_info": {
   "codemirror_mode": {
    "name": "ipython",
    "version": 3
   },
   "file_extension": ".py",
   "mimetype": "text/x-python",
   "name": "python",
   "nbconvert_exporter": "python",
   "pygments_lexer": "ipython3",
   "version": "3.5.2"
  }
 },
 "nbformat": 4,
 "nbformat_minor": 1
}
