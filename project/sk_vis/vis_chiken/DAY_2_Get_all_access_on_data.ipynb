{
 "cells": [
  {
   "cell_type": "markdown",
   "metadata": {},
   "source": [
    "## 파이썬 Selenium을 활용한 데이터 자동 수집\n",
    "## 파이썬 REST API 설계"
   ]
  },
  {
   "cell_type": "markdown",
   "metadata": {},
   "source": [
    "### Selenium을 활용한 데이터 이용신청 봇\n",
    "\n",
    "* Sk data hub의 경우 이용신청을 해야지 API를 이용할 수 있다. 만약 이용신청을 하지 않는다면 아래와 같은 401 오류가 나온다,\n",
    "\n",
    "         {\"error\":{\"id\":401,\"category\":\"datahub\",\"code\":9403,\"message\":\"클라이언트 인증에 실패 하였습니다.\",\"link\":\"http:\\/\\/www.bigdatahub.co.kr\"}}\n",
    "\n",
    "* 따라서 수동으로 이용신청을 해야한다.\n",
    "* 1개월치 데이터 다운에 4번 클릭.\n",
    "* 2013년부터 2017년 4월까지  44개의 데이터 =  최소 176회 클릭 필요. \n",
    "* Selenium을 활용한 자동화 권환 획득 필요.\n",
    "* 코드 결과 추후 rest api를 위한 pid 파라미터 목록 추출."
   ]
  },
  {
   "cell_type": "code",
   "execution_count": 3,
   "metadata": {
    "collapsed": false
   },
   "outputs": [],
   "source": [
    "from selenium import webdriver\n",
    "from selenium.webdriver.common.keys import Keys\n",
    "from urllib.request import urlopen\n",
    "\n",
    "import re\n",
    "import time\n",
    "import pandas as pd"
   ]
  },
  {
   "cell_type": "code",
   "execution_count": 39,
   "metadata": {
    "collapsed": false
   },
   "source": [
    "driver = webdriver.Chrome()\n",
    "\n",
    "driver.get('https://www.bigdatahub.co.kr/login.do')\n",
    "# sk datahub id 와 password를 Id, pw에 할당한다.\n",
    "Id = 'your Id'\n",
    "pw = 'your pw'\n",
    "\n",
    "Id_input = driver.find_element_by_class_name('id_field')\n",
    "Id_input = Id_input.find_element_by_name('login_id')\n",
    "Id_input.send_keys(Id)\n",
    "pw_input = driver.find_element_by_class_name('pw_field')\n",
    "pw_input = pw_input.find_element_by_name('password')\n",
    "pw_input.send_keys(pw, Keys.ENTER)\n",
    "time.sleep(1)\n",
    "\n",
    "driver.get('https://www.bigdatahub.co.kr/product/list.do?event_type=TPREMIUM')\n",
    "time.sleep(1)\n",
    "\n",
    "driver.find_element_by_name('search_title').clear()\n",
    "driver.find_element_by_name('search_title').send_keys('치킨', Keys.ENTER)\n",
    "driver.find_element_by_id('search_btn').click()\n",
    "time.sleep(3)\n",
    "\n",
    "pages = driver.find_elements_by_class_name(\"num_box\")\n",
    "\n",
    "pid_num = []\n",
    "pid_num_link_all = []\n",
    "for page_num in range(1,len(pages)+2):\n",
    "    print(page_num)\n",
    "    try:\n",
    "        driver.execute_script('goPage({0})'.format(page_num))\n",
    "        time.sleep(1)\n",
    "    except:\n",
    "        alert = driver.switch_to_alert()\n",
    "        alert.accept()\n",
    "    time.sleep(1)\n",
    "    time.sleep(2)\n",
    "    table = driver.find_element_by_xpath('//*[@id=\"tRs\"]')\n",
    "    a_tag = table.find_elements_by_tag_name('a')\n",
    "    pid_num_link = []\n",
    "    for num, a in enumerate(a_tag):\n",
    "        pid_num_link.append(a.get_attribute('href'))\n",
    "    x = pd.Series(pid_num_link)\n",
    "    idx = x.apply(lambda x: x[:5])[x.apply(lambda x: x[:5]) == 'https'].index\n",
    "    x = x[idx]\n",
    "    x.reset_index(drop = True ,inplace =True)  \n",
    "    pid_num_link = []\n",
    "\n",
    "    for num, i in enumerate(x):\n",
    "        if num % 3 == 0:\n",
    "            pid_num_link_all.append(x[num])\n",
    "            pid_num_link.append(x[num])\n",
    "            pid_num.append(x[num][-7:])\n",
    "        \n",
    "    for num_link, link in enumerate(pid_num_link):\n",
    "        print(link)\n",
    "        \n",
    "        try:\n",
    "            driver.get(link)\n",
    "            time.sleep(1)\n",
    "        except:\n",
    "            alert = driver.switch_to_alert()\n",
    "            alert.accept()\n",
    "            time.sleep(1)\n",
    "        try:\n",
    "            driver.find_elements_by_class_name('size02')[1].click()\n",
    "            time.sleep(1)\n",
    "            driver.switch_to_frame(driver.find_element_by_id(\"smartPop_frame\"))\n",
    "            driver.find_element_by_id('data_opt01').click()\n",
    "            time.sleep(1)\n",
    "            driver.find_elements_by_class_name('size02')[0].click()\n",
    "            time.sleep(1)\n",
    "        except:\n",
    "            alert = driver.switch_to_alert()\n",
    "            alert.accept()\n",
    "            time.sleep(1)\n",
    "                \n",
    "        if (num_link == len(pid_num_link)-1):\n",
    "            try:\n",
    "                driver.get('https://www.bigdatahub.co.kr/product/list.do?event_type=TPREMIUM')\n",
    "                time.sleep(1)\n",
    "                driver.find_element_by_name('search_title').clear()\n",
    "                driver.find_element_by_name('search_title').send_keys('치킨', Keys.ENTER)\n",
    "                driver.find_element_by_id('search_btn').click()\n",
    "                time.sleep(1)\n",
    "            except:\n",
    "                alert = driver.switch_to_alert()\n",
    "                alert.accept()\n",
    "                time.sleep(1)\n"
   ]
  }
 ],
 "metadata": {
  "anaconda-cloud": {},
  "kernelspec": {
   "display_name": "Python [conda root]",
   "language": "python",
   "name": "conda-root-py"
  },
  "language_info": {
   "codemirror_mode": {
    "name": "ipython",
    "version": 3
   },
   "file_extension": ".py",
   "mimetype": "text/x-python",
   "name": "python",
   "nbconvert_exporter": "python",
   "pygments_lexer": "ipython3",
   "version": "3.5.2"
  }
 },
 "nbformat": 4,
 "nbformat_minor": 1
}
