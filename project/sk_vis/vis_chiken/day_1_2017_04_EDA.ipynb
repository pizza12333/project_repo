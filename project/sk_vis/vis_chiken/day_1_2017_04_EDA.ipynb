{
 "cells": [
  {
   "cell_type": "markdown",
   "metadata": {},
   "source": [
    "## 토이프로젝트 #1 - 치킨 시각화 해버렷!\n",
    "\n",
    "## Day_01 : 데이터와 처음 만나버렷!\n",
    "**목표 : 데이터를 이해하고 기본적인 전처리를 수행한다.& 이후 쪼개진 데이터 처리 자동화 함수를 만든다**"
   ]
  },
  {
   "cell_type": "code",
   "execution_count": 1,
   "metadata": {
    "collapsed": false
   },
   "outputs": [],
   "source": [
    "import pandas as pd\n",
    "import numpy as np\n",
    "import matplotlib\n",
    "import matplotlib.pyplot as plt\n",
    "\n",
    "# matplotlib 에서 한글을 쓰기 위해 폰트를 수정하는 코드\n",
    "# 로컬에 설치된 폰드만 사용가능 matplotlib에 연결된 로컬폰트를 확인하고 싶다면\n",
    "#for i, x in enumerate(matplotlib.font_manager.fontManager.ttflist):\n",
    "#    print(i,x)\n",
    "\n",
    "matplotlib.rc('font', family='NanumBarunpen')\n",
    "\n",
    "# ipython notebook상에 바로 플롯을 출력하도록 하는 매직명령어\n",
    "%matplotlib inline"
   ]
  },
  {
   "cell_type": "code",
   "execution_count": 2,
   "metadata": {
    "collapsed": false,
    "scrolled": true
   },
   "outputs": [],
   "source": [
    "#for i, x in enumerate(matplotlib.font_manager.fontManager.ttflist):\n",
    "#    print(i,x)"
   ]
  },
  {
   "cell_type": "code",
   "execution_count": 3,
   "metadata": {
    "collapsed": false
   },
   "outputs": [
    {
     "data": {
      "text/html": [
       "<div>\n",
       "<table border=\"1\" class=\"dataframe\">\n",
       "  <thead>\n",
       "    <tr style=\"text-align: right;\">\n",
       "      <th></th>\n",
       "      <th>﻿\"기준일\"</th>\n",
       "      <th>요일</th>\n",
       "      <th>성별</th>\n",
       "      <th>연령대</th>\n",
       "      <th>시도</th>\n",
       "      <th>시군구</th>\n",
       "      <th>읍면동</th>\n",
       "      <th>업종</th>\n",
       "      <th>통화건수</th>\n",
       "    </tr>\n",
       "  </thead>\n",
       "  <tbody>\n",
       "    <tr>\n",
       "      <th>0</th>\n",
       "      <td>20170401</td>\n",
       "      <td>토</td>\n",
       "      <td>여</td>\n",
       "      <td>40대</td>\n",
       "      <td>서울특별시</td>\n",
       "      <td>강남구</td>\n",
       "      <td>대치동</td>\n",
       "      <td>치킨</td>\n",
       "      <td>17</td>\n",
       "    </tr>\n",
       "    <tr>\n",
       "      <th>1</th>\n",
       "      <td>20170401</td>\n",
       "      <td>토</td>\n",
       "      <td>남</td>\n",
       "      <td>50대</td>\n",
       "      <td>서울특별시</td>\n",
       "      <td>강남구</td>\n",
       "      <td>논현동</td>\n",
       "      <td>치킨</td>\n",
       "      <td>15</td>\n",
       "    </tr>\n",
       "    <tr>\n",
       "      <th>2</th>\n",
       "      <td>20170401</td>\n",
       "      <td>토</td>\n",
       "      <td>여</td>\n",
       "      <td>50대</td>\n",
       "      <td>서울특별시</td>\n",
       "      <td>강남구</td>\n",
       "      <td>삼성동</td>\n",
       "      <td>치킨</td>\n",
       "      <td>37</td>\n",
       "    </tr>\n",
       "    <tr>\n",
       "      <th>3</th>\n",
       "      <td>20170401</td>\n",
       "      <td>토</td>\n",
       "      <td>여</td>\n",
       "      <td>60대이상</td>\n",
       "      <td>서울특별시</td>\n",
       "      <td>강남구</td>\n",
       "      <td>삼성동</td>\n",
       "      <td>치킨</td>\n",
       "      <td>11</td>\n",
       "    </tr>\n",
       "    <tr>\n",
       "      <th>4</th>\n",
       "      <td>20170401</td>\n",
       "      <td>토</td>\n",
       "      <td>여</td>\n",
       "      <td>60대이상</td>\n",
       "      <td>서울특별시</td>\n",
       "      <td>강남구</td>\n",
       "      <td>신사동</td>\n",
       "      <td>치킨</td>\n",
       "      <td>5</td>\n",
       "    </tr>\n",
       "    <tr>\n",
       "      <th>5</th>\n",
       "      <td>20170401</td>\n",
       "      <td>토</td>\n",
       "      <td>남</td>\n",
       "      <td>60대이상</td>\n",
       "      <td>서울특별시</td>\n",
       "      <td>강남구</td>\n",
       "      <td>논현동</td>\n",
       "      <td>치킨</td>\n",
       "      <td>5</td>\n",
       "    </tr>\n",
       "    <tr>\n",
       "      <th>6</th>\n",
       "      <td>20170401</td>\n",
       "      <td>토</td>\n",
       "      <td>남</td>\n",
       "      <td>30대</td>\n",
       "      <td>서울특별시</td>\n",
       "      <td>강남구</td>\n",
       "      <td>대치동</td>\n",
       "      <td>치킨</td>\n",
       "      <td>5</td>\n",
       "    </tr>\n",
       "    <tr>\n",
       "      <th>7</th>\n",
       "      <td>20170401</td>\n",
       "      <td>토</td>\n",
       "      <td>여</td>\n",
       "      <td>10대</td>\n",
       "      <td>서울특별시</td>\n",
       "      <td>강남구</td>\n",
       "      <td>역삼동</td>\n",
       "      <td>치킨</td>\n",
       "      <td>5</td>\n",
       "    </tr>\n",
       "    <tr>\n",
       "      <th>8</th>\n",
       "      <td>20170401</td>\n",
       "      <td>토</td>\n",
       "      <td>여</td>\n",
       "      <td>10대</td>\n",
       "      <td>서울특별시</td>\n",
       "      <td>강남구</td>\n",
       "      <td>도곡동</td>\n",
       "      <td>치킨</td>\n",
       "      <td>5</td>\n",
       "    </tr>\n",
       "    <tr>\n",
       "      <th>9</th>\n",
       "      <td>20170401</td>\n",
       "      <td>토</td>\n",
       "      <td>여</td>\n",
       "      <td>20대</td>\n",
       "      <td>서울특별시</td>\n",
       "      <td>강남구</td>\n",
       "      <td>삼성동</td>\n",
       "      <td>치킨</td>\n",
       "      <td>37</td>\n",
       "    </tr>\n",
       "  </tbody>\n",
       "</table>\n",
       "</div>"
      ],
      "text/plain": [
       "     ﻿\"기준일\" 요일 성별    연령대     시도  시군구  읍면동  업종  통화건수\n",
       "0  20170401  토  여    40대  서울특별시  강남구  대치동  치킨    17\n",
       "1  20170401  토  남    50대  서울특별시  강남구  논현동  치킨    15\n",
       "2  20170401  토  여    50대  서울특별시  강남구  삼성동  치킨    37\n",
       "3  20170401  토  여  60대이상  서울특별시  강남구  삼성동  치킨    11\n",
       "4  20170401  토  여  60대이상  서울특별시  강남구  신사동  치킨     5\n",
       "5  20170401  토  남  60대이상  서울특별시  강남구  논현동  치킨     5\n",
       "6  20170401  토  남    30대  서울특별시  강남구  대치동  치킨     5\n",
       "7  20170401  토  여    10대  서울특별시  강남구  역삼동  치킨     5\n",
       "8  20170401  토  여    10대  서울특별시  강남구  도곡동  치킨     5\n",
       "9  20170401  토  여    20대  서울특별시  강남구  삼성동  치킨    37"
      ]
     },
     "execution_count": 3,
     "metadata": {},
     "output_type": "execute_result"
    }
   ],
   "source": [
    "# 데이터로딩 \n",
    "data = pd.read_csv('../sk_chickin_call_201704.csv', encoding='utf-8')\n",
    "data.head(10)"
   ]
  },
  {
   "cell_type": "code",
   "execution_count": 4,
   "metadata": {
    "collapsed": false
   },
   "outputs": [
    {
     "data": {
      "text/html": [
       "<div>\n",
       "<table border=\"1\" class=\"dataframe\">\n",
       "  <thead>\n",
       "    <tr style=\"text-align: right;\">\n",
       "      <th></th>\n",
       "      <th>Date</th>\n",
       "      <th>Day_of_week</th>\n",
       "      <th>Gender</th>\n",
       "      <th>Age</th>\n",
       "      <th>Loc_big</th>\n",
       "      <th>Loc_mid</th>\n",
       "      <th>Loc_small</th>\n",
       "      <th>Cate</th>\n",
       "      <th>Call</th>\n",
       "    </tr>\n",
       "  </thead>\n",
       "  <tbody>\n",
       "    <tr>\n",
       "      <th>0</th>\n",
       "      <td>20170401</td>\n",
       "      <td>토</td>\n",
       "      <td>여</td>\n",
       "      <td>40대</td>\n",
       "      <td>서울특별시</td>\n",
       "      <td>강남구</td>\n",
       "      <td>대치동</td>\n",
       "      <td>치킨</td>\n",
       "      <td>17</td>\n",
       "    </tr>\n",
       "    <tr>\n",
       "      <th>1</th>\n",
       "      <td>20170401</td>\n",
       "      <td>토</td>\n",
       "      <td>남</td>\n",
       "      <td>50대</td>\n",
       "      <td>서울특별시</td>\n",
       "      <td>강남구</td>\n",
       "      <td>논현동</td>\n",
       "      <td>치킨</td>\n",
       "      <td>15</td>\n",
       "    </tr>\n",
       "    <tr>\n",
       "      <th>2</th>\n",
       "      <td>20170401</td>\n",
       "      <td>토</td>\n",
       "      <td>여</td>\n",
       "      <td>50대</td>\n",
       "      <td>서울특별시</td>\n",
       "      <td>강남구</td>\n",
       "      <td>삼성동</td>\n",
       "      <td>치킨</td>\n",
       "      <td>37</td>\n",
       "    </tr>\n",
       "    <tr>\n",
       "      <th>3</th>\n",
       "      <td>20170401</td>\n",
       "      <td>토</td>\n",
       "      <td>여</td>\n",
       "      <td>60대이상</td>\n",
       "      <td>서울특별시</td>\n",
       "      <td>강남구</td>\n",
       "      <td>삼성동</td>\n",
       "      <td>치킨</td>\n",
       "      <td>11</td>\n",
       "    </tr>\n",
       "    <tr>\n",
       "      <th>4</th>\n",
       "      <td>20170401</td>\n",
       "      <td>토</td>\n",
       "      <td>여</td>\n",
       "      <td>60대이상</td>\n",
       "      <td>서울특별시</td>\n",
       "      <td>강남구</td>\n",
       "      <td>신사동</td>\n",
       "      <td>치킨</td>\n",
       "      <td>5</td>\n",
       "    </tr>\n",
       "    <tr>\n",
       "      <th>5</th>\n",
       "      <td>20170401</td>\n",
       "      <td>토</td>\n",
       "      <td>남</td>\n",
       "      <td>60대이상</td>\n",
       "      <td>서울특별시</td>\n",
       "      <td>강남구</td>\n",
       "      <td>논현동</td>\n",
       "      <td>치킨</td>\n",
       "      <td>5</td>\n",
       "    </tr>\n",
       "    <tr>\n",
       "      <th>6</th>\n",
       "      <td>20170401</td>\n",
       "      <td>토</td>\n",
       "      <td>남</td>\n",
       "      <td>30대</td>\n",
       "      <td>서울특별시</td>\n",
       "      <td>강남구</td>\n",
       "      <td>대치동</td>\n",
       "      <td>치킨</td>\n",
       "      <td>5</td>\n",
       "    </tr>\n",
       "    <tr>\n",
       "      <th>7</th>\n",
       "      <td>20170401</td>\n",
       "      <td>토</td>\n",
       "      <td>여</td>\n",
       "      <td>10대</td>\n",
       "      <td>서울특별시</td>\n",
       "      <td>강남구</td>\n",
       "      <td>역삼동</td>\n",
       "      <td>치킨</td>\n",
       "      <td>5</td>\n",
       "    </tr>\n",
       "    <tr>\n",
       "      <th>8</th>\n",
       "      <td>20170401</td>\n",
       "      <td>토</td>\n",
       "      <td>여</td>\n",
       "      <td>10대</td>\n",
       "      <td>서울특별시</td>\n",
       "      <td>강남구</td>\n",
       "      <td>도곡동</td>\n",
       "      <td>치킨</td>\n",
       "      <td>5</td>\n",
       "    </tr>\n",
       "    <tr>\n",
       "      <th>9</th>\n",
       "      <td>20170401</td>\n",
       "      <td>토</td>\n",
       "      <td>여</td>\n",
       "      <td>20대</td>\n",
       "      <td>서울특별시</td>\n",
       "      <td>강남구</td>\n",
       "      <td>삼성동</td>\n",
       "      <td>치킨</td>\n",
       "      <td>37</td>\n",
       "    </tr>\n",
       "  </tbody>\n",
       "</table>\n",
       "</div>"
      ],
      "text/plain": [
       "       Date Day_of_week Gender    Age Loc_big Loc_mid Loc_small Cate  Call\n",
       "0  20170401           토      여    40대   서울특별시     강남구       대치동   치킨    17\n",
       "1  20170401           토      남    50대   서울특별시     강남구       논현동   치킨    15\n",
       "2  20170401           토      여    50대   서울특별시     강남구       삼성동   치킨    37\n",
       "3  20170401           토      여  60대이상   서울특별시     강남구       삼성동   치킨    11\n",
       "4  20170401           토      여  60대이상   서울특별시     강남구       신사동   치킨     5\n",
       "5  20170401           토      남  60대이상   서울특별시     강남구       논현동   치킨     5\n",
       "6  20170401           토      남    30대   서울특별시     강남구       대치동   치킨     5\n",
       "7  20170401           토      여    10대   서울특별시     강남구       역삼동   치킨     5\n",
       "8  20170401           토      여    10대   서울특별시     강남구       도곡동   치킨     5\n",
       "9  20170401           토      여    20대   서울특별시     강남구       삼성동   치킨    37"
      ]
     },
     "execution_count": 4,
     "metadata": {},
     "output_type": "execute_result"
    }
   ],
   "source": [
    "# 한글 변수명은 처리하기 귀찮은 점이 많아서 영어로 변수명을 수정\n",
    "data.columns = ['Date', 'Day_of_week', 'Gender', 'Age', 'Loc_big', 'Loc_mid', 'Loc_small', 'Cate', 'Call']\n",
    "data.head(10)"
   ]
  },
  {
   "cell_type": "markdown",
   "metadata": {},
   "source": [
    "## 데이터 확인 \n",
    "### 데이터 확인 5가지 프로세스\n",
    "\n",
    "1. Checking N\n",
    "2. Checking Head&Tail(위에서 미리 했음)\n",
    "3. Checking Structure \n",
    "4. Checking Summary\n",
    "5. Checking NaN"
   ]
  },
  {
   "cell_type": "markdown",
   "metadata": {},
   "source": [
    "### 1.Checking N"
   ]
  },
  {
   "cell_type": "code",
   "execution_count": 5,
   "metadata": {
    "collapsed": false
   },
   "outputs": [
    {
     "data": {
      "text/plain": [
       "(39307, 9)"
      ]
     },
     "execution_count": 5,
     "metadata": {},
     "output_type": "execute_result"
    }
   ],
   "source": [
    "data.shape"
   ]
  },
  {
   "cell_type": "markdown",
   "metadata": {},
   "source": [
    "**코드실행 후 생각: 데이터가 생각보다 많다. 13년도 부터 모은다면 꾀 양이 많아질것 같다. 이후 전처리 함수를 만들때 연산비용을 염두하면서 코딩하자**"
   ]
  },
  {
   "cell_type": "markdown",
   "metadata": {},
   "source": [
    "### 3. Checking Structure"
   ]
  },
  {
   "cell_type": "code",
   "execution_count": 6,
   "metadata": {
    "collapsed": false,
    "scrolled": false
   },
   "outputs": [
    {
     "name": "stdout",
     "output_type": "stream",
     "text": [
      "<class 'pandas.core.frame.DataFrame'>\n",
      "RangeIndex: 39307 entries, 0 to 39306\n",
      "Data columns (total 9 columns):\n",
      "Date           39307 non-null int64\n",
      "Day_of_week    39307 non-null object\n",
      "Gender         39307 non-null object\n",
      "Age            39307 non-null object\n",
      "Loc_big        39307 non-null object\n",
      "Loc_mid        39307 non-null object\n",
      "Loc_small      39307 non-null object\n",
      "Cate           39307 non-null object\n",
      "Call           39307 non-null int64\n",
      "dtypes: int64(2), object(7)\n",
      "memory usage: 2.7+ MB\n"
     ]
    }
   ],
   "source": [
    "data.info()"
   ]
  },
  {
   "cell_type": "markdown",
   "metadata": {},
   "source": [
    "### 4. Checking summary"
   ]
  },
  {
   "cell_type": "code",
   "execution_count": 7,
   "metadata": {
    "collapsed": false
   },
   "outputs": [
    {
     "data": {
      "text/html": [
       "<div>\n",
       "<table border=\"1\" class=\"dataframe\">\n",
       "  <thead>\n",
       "    <tr style=\"text-align: right;\">\n",
       "      <th></th>\n",
       "      <th>Date</th>\n",
       "      <th>Day_of_week</th>\n",
       "      <th>Gender</th>\n",
       "      <th>Age</th>\n",
       "      <th>Loc_big</th>\n",
       "      <th>Loc_mid</th>\n",
       "      <th>Loc_small</th>\n",
       "      <th>Cate</th>\n",
       "      <th>Call</th>\n",
       "    </tr>\n",
       "  </thead>\n",
       "  <tbody>\n",
       "    <tr>\n",
       "      <th>count</th>\n",
       "      <td>3.930700e+04</td>\n",
       "      <td>39307</td>\n",
       "      <td>39307</td>\n",
       "      <td>39307</td>\n",
       "      <td>39307</td>\n",
       "      <td>39307</td>\n",
       "      <td>39307</td>\n",
       "      <td>39307</td>\n",
       "      <td>39307.000000</td>\n",
       "    </tr>\n",
       "    <tr>\n",
       "      <th>unique</th>\n",
       "      <td>NaN</td>\n",
       "      <td>7</td>\n",
       "      <td>2</td>\n",
       "      <td>6</td>\n",
       "      <td>1</td>\n",
       "      <td>25</td>\n",
       "      <td>222</td>\n",
       "      <td>1</td>\n",
       "      <td>NaN</td>\n",
       "    </tr>\n",
       "    <tr>\n",
       "      <th>top</th>\n",
       "      <td>NaN</td>\n",
       "      <td>토</td>\n",
       "      <td>여</td>\n",
       "      <td>30대</td>\n",
       "      <td>서울특별시</td>\n",
       "      <td>강남구</td>\n",
       "      <td>신사동</td>\n",
       "      <td>치킨</td>\n",
       "      <td>NaN</td>\n",
       "    </tr>\n",
       "    <tr>\n",
       "      <th>freq</th>\n",
       "      <td>NaN</td>\n",
       "      <td>7071</td>\n",
       "      <td>20097</td>\n",
       "      <td>8384</td>\n",
       "      <td>39307</td>\n",
       "      <td>3008</td>\n",
       "      <td>369</td>\n",
       "      <td>39307</td>\n",
       "      <td>NaN</td>\n",
       "    </tr>\n",
       "    <tr>\n",
       "      <th>mean</th>\n",
       "      <td>2.017042e+07</td>\n",
       "      <td>NaN</td>\n",
       "      <td>NaN</td>\n",
       "      <td>NaN</td>\n",
       "      <td>NaN</td>\n",
       "      <td>NaN</td>\n",
       "      <td>NaN</td>\n",
       "      <td>NaN</td>\n",
       "      <td>13.515913</td>\n",
       "    </tr>\n",
       "    <tr>\n",
       "      <th>std</th>\n",
       "      <td>8.699773e+00</td>\n",
       "      <td>NaN</td>\n",
       "      <td>NaN</td>\n",
       "      <td>NaN</td>\n",
       "      <td>NaN</td>\n",
       "      <td>NaN</td>\n",
       "      <td>NaN</td>\n",
       "      <td>NaN</td>\n",
       "      <td>22.427682</td>\n",
       "    </tr>\n",
       "    <tr>\n",
       "      <th>min</th>\n",
       "      <td>2.017040e+07</td>\n",
       "      <td>NaN</td>\n",
       "      <td>NaN</td>\n",
       "      <td>NaN</td>\n",
       "      <td>NaN</td>\n",
       "      <td>NaN</td>\n",
       "      <td>NaN</td>\n",
       "      <td>NaN</td>\n",
       "      <td>5.000000</td>\n",
       "    </tr>\n",
       "    <tr>\n",
       "      <th>25%</th>\n",
       "      <td>2.017041e+07</td>\n",
       "      <td>NaN</td>\n",
       "      <td>NaN</td>\n",
       "      <td>NaN</td>\n",
       "      <td>NaN</td>\n",
       "      <td>NaN</td>\n",
       "      <td>NaN</td>\n",
       "      <td>NaN</td>\n",
       "      <td>5.000000</td>\n",
       "    </tr>\n",
       "    <tr>\n",
       "      <th>50%</th>\n",
       "      <td>2.017042e+07</td>\n",
       "      <td>NaN</td>\n",
       "      <td>NaN</td>\n",
       "      <td>NaN</td>\n",
       "      <td>NaN</td>\n",
       "      <td>NaN</td>\n",
       "      <td>NaN</td>\n",
       "      <td>NaN</td>\n",
       "      <td>5.000000</td>\n",
       "    </tr>\n",
       "    <tr>\n",
       "      <th>75%</th>\n",
       "      <td>2.017042e+07</td>\n",
       "      <td>NaN</td>\n",
       "      <td>NaN</td>\n",
       "      <td>NaN</td>\n",
       "      <td>NaN</td>\n",
       "      <td>NaN</td>\n",
       "      <td>NaN</td>\n",
       "      <td>NaN</td>\n",
       "      <td>10.000000</td>\n",
       "    </tr>\n",
       "    <tr>\n",
       "      <th>max</th>\n",
       "      <td>2.017043e+07</td>\n",
       "      <td>NaN</td>\n",
       "      <td>NaN</td>\n",
       "      <td>NaN</td>\n",
       "      <td>NaN</td>\n",
       "      <td>NaN</td>\n",
       "      <td>NaN</td>\n",
       "      <td>NaN</td>\n",
       "      <td>396.000000</td>\n",
       "    </tr>\n",
       "  </tbody>\n",
       "</table>\n",
       "</div>"
      ],
      "text/plain": [
       "                Date Day_of_week Gender    Age Loc_big Loc_mid Loc_small  \\\n",
       "count   3.930700e+04       39307  39307  39307   39307   39307     39307   \n",
       "unique           NaN           7      2      6       1      25       222   \n",
       "top              NaN           토      여    30대   서울특별시     강남구       신사동   \n",
       "freq             NaN        7071  20097   8384   39307    3008       369   \n",
       "mean    2.017042e+07         NaN    NaN    NaN     NaN     NaN       NaN   \n",
       "std     8.699773e+00         NaN    NaN    NaN     NaN     NaN       NaN   \n",
       "min     2.017040e+07         NaN    NaN    NaN     NaN     NaN       NaN   \n",
       "25%     2.017041e+07         NaN    NaN    NaN     NaN     NaN       NaN   \n",
       "50%     2.017042e+07         NaN    NaN    NaN     NaN     NaN       NaN   \n",
       "75%     2.017042e+07         NaN    NaN    NaN     NaN     NaN       NaN   \n",
       "max     2.017043e+07         NaN    NaN    NaN     NaN     NaN       NaN   \n",
       "\n",
       "         Cate          Call  \n",
       "count   39307  39307.000000  \n",
       "unique      1           NaN  \n",
       "top        치킨           NaN  \n",
       "freq    39307           NaN  \n",
       "mean      NaN     13.515913  \n",
       "std       NaN     22.427682  \n",
       "min       NaN      5.000000  \n",
       "25%       NaN      5.000000  \n",
       "50%       NaN      5.000000  \n",
       "75%       NaN     10.000000  \n",
       "max       NaN    396.000000  "
      ]
     },
     "execution_count": 7,
     "metadata": {},
     "output_type": "execute_result"
    }
   ],
   "source": [
    "data.describe(include='all')"
   ]
  },
  {
   "cell_type": "markdown",
   "metadata": {},
   "source": [
    "**코드실행 후 생각: 범주가 하나밖에 없는 변수를 지워야 겠다. 또 Loc_small같은 경우 범주가 222개로 너무 많기 때문에 처리에 대해 좀 더 생각할 필요가 있겠다.마지막으로 Call변수의 경우 왜도가 어마무시하기 때문에 생각해 봐야겠다.**"
   ]
  },
  {
   "cell_type": "markdown",
   "metadata": {},
   "source": [
    "### 5. Checking NaN"
   ]
  },
  {
   "cell_type": "code",
   "execution_count": 8,
   "metadata": {
    "collapsed": false
   },
   "outputs": [
    {
     "data": {
      "text/plain": [
       "Date           0\n",
       "Day_of_week    0\n",
       "Gender         0\n",
       "Age            0\n",
       "Loc_big        0\n",
       "Loc_mid        0\n",
       "Loc_small      0\n",
       "Cate           0\n",
       "Call           0\n",
       "dtype: int64"
      ]
     },
     "execution_count": 8,
     "metadata": {},
     "output_type": "execute_result"
    }
   ],
   "source": [
    "data.isnull().sum()"
   ]
  },
  {
   "cell_type": "markdown",
   "metadata": {},
   "source": [
    "## 데이터 전처리 #1\n",
    "### 목표 : \n",
    "1. **데이터를 살펴본 후 나온 결론을 토대로 데이터 전처리 **\n",
    "    * Loc_big과 Cate 변수는 1가지 범주밖에 없기 때문에 삭제한다."
   ]
  },
  {
   "cell_type": "markdown",
   "metadata": {},
   "source": [
    "### (1) Loc_big & Cate Variables 삭제"
   ]
  },
  {
   "cell_type": "code",
   "execution_count": 9,
   "metadata": {
    "collapsed": true
   },
   "outputs": [],
   "source": [
    "data.drop(['Loc_big', 'Cate'], axis=1, inplace=True)"
   ]
  },
  {
   "cell_type": "markdown",
   "metadata": {},
   "source": [
    "## EDA #1\n",
    "### 목표 : \n",
    "1. **데이터의 이해와 가설 획득**\n",
    "    * 단일 변수"
   ]
  },
  {
   "cell_type": "code",
   "execution_count": 10,
   "metadata": {
    "collapsed": false
   },
   "outputs": [
    {
     "data": {
      "image/png": "[encoded data removed]",
      "text/plain": [
       "<matplotlib.figure.Figure at 0x112daa860>"
      ]
     },
     "metadata": {},
     "output_type": "display_data"
    }
   ],
   "source": [
    "fig = plt.figure(figsize=[20,15])\n",
    "col = 0\n",
    "for i in range(1,6):\n",
    "    fig.add_subplot(4,3,i)\n",
    "    data.iloc[:,col].value_counts(sort=True).plot(kind='bar')\n",
    "    col +=1\n",
    "fig.add_subplot(4,3,(7,9))\n",
    "data['Loc_small'].value_counts(sort=True).plot(kind='bar')\n",
    "fig.add_subplot(4,3,(10,12))\n",
    "data['Call'].plot(kind='hist', bins = 100)\n",
    "\n",
    "plt.show()"
   ]
  },
  {
   "cell_type": "markdown",
   "metadata": {},
   "source": [
    "## EDA #1 결과\n",
    "\n",
    "변수이해 : \n",
    "* Call 변수는 왜도가 굉장히 높으며 자세히 볼 필요가 있다.\n",
    "* Call 수는 최소 5이며(홈페이지 참조) 대부분이 5 근처에 있다.\n",
    "* 한 행이 한 사람을 뜻하는건지 아니면 한 행이 해당 변수의 특성에 맞는 사람들을 sum up된 데이터인지 정확히 구분할 필요성이 있다. 왜냐하면 한 행이 한 사람을 뜻할 경우 한사람이 하루에 400통 가까운 전화를 치킨집에 할 정상적인 이유가 없기 때문이다.\n",
    "* 추후 매쉬업된 데이터를 살펴볼때 Date변수로 관리하는 것 보다 년/월/일로 구분된 데이터를 다루는게 편하기 때문에 년월일로 나누자"
   ]
  },
  {
   "cell_type": "markdown",
   "metadata": {},
   "source": [
    "## 데이터 전처리 #2\n",
    "\n",
    "* 추후 데이터 매쉬업을 위해 Date 변수를 년/월/일로 쪼갠다"
   ]
  },
  {
   "cell_type": "code",
   "execution_count": 17,
   "metadata": {
    "collapsed": false
   },
   "outputs": [],
   "source": [
    "data['Year'] = data.Date.apply(lambda x : str(x)[0:4])\n",
    "data['Month'] = data.Date.apply(lambda x : str(x)[4:6])\n",
    "data['Day'] = data.Date.apply(lambda x : str(x)[6:8])\n",
    "\n",
    "data.drop('Date', axis=1, inplace=True)"
   ]
  },
  {
   "cell_type": "markdown",
   "metadata": {},
   "source": [
    "# EDA #2\n",
    "\n",
    "* Call 변수를 좀 더 살펴보자"
   ]
  },
  {
   "cell_type": "markdown",
   "metadata": {},
   "source": [
    "### Call 변수 자세하게 살펴보기 숲에서 나무로"
   ]
  },
  {
   "cell_type": "code",
   "execution_count": 18,
   "metadata": {
    "collapsed": false
   },
   "outputs": [
    {
     "data": {
      "text/plain": [
       "count    39307.000000\n",
       "mean        13.515913\n",
       "std         22.427682\n",
       "min          5.000000\n",
       "25%          5.000000\n",
       "50%          5.000000\n",
       "75%         10.000000\n",
       "max        396.000000\n",
       "Name: Call, dtype: float64"
      ]
     },
     "execution_count": 18,
     "metadata": {},
     "output_type": "execute_result"
    }
   ],
   "source": [
    "data.Call.describe()"
   ]
  },
  {
   "cell_type": "code",
   "execution_count": 19,
   "metadata": {
    "collapsed": false
   },
   "outputs": [
    {
     "data": {
      "image/png": "[encoded data removed]",
      "text/plain": [
       "<matplotlib.figure.Figure at 0x1145748d0>"
      ]
     },
     "metadata": {},
     "output_type": "display_data"
    }
   ],
   "source": [
    "fig = plt.figure(figsize=[20,8])\n",
    "ax1 = fig.add_subplot(1,2,1)\n",
    "data.loc[data.Call].plot(kind='hist', bins = 200, ax = ax1)\n",
    "\n",
    "ax2 = fig.add_subplot(1,2,2)\n",
    "data.loc[data.Call].plot(kind='box', ax = ax2)\n",
    "plt.show()"
   ]
  },
  {
   "cell_type": "markdown",
   "metadata": {},
   "source": [
    "**5 부터 10까지의 값이 전체의 약 75%를 차지하고 있는것을 볼 수 있으며, 나머지 10%의 값 때문에 왜도가 굉장히 큰 것을 발견 할 수 있다. **\n",
    "**따라서 좀 더 미시적으로 바라볼 필요가 있다고 판단했다.**"
   ]
  },
  {
   "cell_type": "code",
   "execution_count": 20,
   "metadata": {
    "collapsed": false
   },
   "outputs": [
    {
     "name": "stdout",
     "output_type": "stream",
     "text": [
      "(9738, 9)\n"
     ]
    },
    {
     "data": {
      "text/html": [
       "<div>\n",
       "<table border=\"1\" class=\"dataframe\">\n",
       "  <thead>\n",
       "    <tr style=\"text-align: right;\">\n",
       "      <th></th>\n",
       "      <th>Day_of_week</th>\n",
       "      <th>Gender</th>\n",
       "      <th>Age</th>\n",
       "      <th>Loc_mid</th>\n",
       "      <th>Loc_small</th>\n",
       "      <th>Call</th>\n",
       "      <th>Year</th>\n",
       "      <th>Month</th>\n",
       "      <th>Day</th>\n",
       "    </tr>\n",
       "  </thead>\n",
       "  <tbody>\n",
       "    <tr>\n",
       "      <th>0</th>\n",
       "      <td>토</td>\n",
       "      <td>여</td>\n",
       "      <td>40대</td>\n",
       "      <td>강남구</td>\n",
       "      <td>대치동</td>\n",
       "      <td>17</td>\n",
       "      <td>2017</td>\n",
       "      <td>04</td>\n",
       "      <td>01</td>\n",
       "    </tr>\n",
       "    <tr>\n",
       "      <th>1</th>\n",
       "      <td>토</td>\n",
       "      <td>남</td>\n",
       "      <td>50대</td>\n",
       "      <td>강남구</td>\n",
       "      <td>논현동</td>\n",
       "      <td>15</td>\n",
       "      <td>2017</td>\n",
       "      <td>04</td>\n",
       "      <td>01</td>\n",
       "    </tr>\n",
       "    <tr>\n",
       "      <th>2</th>\n",
       "      <td>토</td>\n",
       "      <td>여</td>\n",
       "      <td>50대</td>\n",
       "      <td>강남구</td>\n",
       "      <td>삼성동</td>\n",
       "      <td>37</td>\n",
       "      <td>2017</td>\n",
       "      <td>04</td>\n",
       "      <td>01</td>\n",
       "    </tr>\n",
       "    <tr>\n",
       "      <th>3</th>\n",
       "      <td>토</td>\n",
       "      <td>여</td>\n",
       "      <td>60대이상</td>\n",
       "      <td>강남구</td>\n",
       "      <td>삼성동</td>\n",
       "      <td>11</td>\n",
       "      <td>2017</td>\n",
       "      <td>04</td>\n",
       "      <td>01</td>\n",
       "    </tr>\n",
       "    <tr>\n",
       "      <th>9</th>\n",
       "      <td>토</td>\n",
       "      <td>여</td>\n",
       "      <td>20대</td>\n",
       "      <td>강남구</td>\n",
       "      <td>삼성동</td>\n",
       "      <td>37</td>\n",
       "      <td>2017</td>\n",
       "      <td>04</td>\n",
       "      <td>01</td>\n",
       "    </tr>\n",
       "  </tbody>\n",
       "</table>\n",
       "</div>"
      ],
      "text/plain": [
       "  Day_of_week Gender    Age Loc_mid Loc_small  Call  Year Month Day\n",
       "0           토      여    40대     강남구       대치동    17  2017    04  01\n",
       "1           토      남    50대     강남구       논현동    15  2017    04  01\n",
       "2           토      여    50대     강남구       삼성동    37  2017    04  01\n",
       "3           토      여  60대이상     강남구       삼성동    11  2017    04  01\n",
       "9           토      여    20대     강남구       삼성동    37  2017    04  01"
      ]
     },
     "execution_count": 20,
     "metadata": {},
     "output_type": "execute_result"
    }
   ],
   "source": [
    "# 왜도를 크게 만드는 75% 이후의 call 값을 살펴보자\n",
    "print(data.loc[data.Call > 10].shape)\n",
    "data.loc[data.Call > 10].head()"
   ]
  },
  {
   "cell_type": "code",
   "execution_count": 21,
   "metadata": {
    "collapsed": false
   },
   "outputs": [
    {
     "data": {
      "text/plain": [
       "count    9738.000000\n",
       "mean       38.040563\n",
       "std        35.028000\n",
       "min        11.000000\n",
       "25%        16.000000\n",
       "50%        26.000000\n",
       "75%        46.000000\n",
       "max       396.000000\n",
       "Name: Call, dtype: float64"
      ]
     },
     "execution_count": 21,
     "metadata": {},
     "output_type": "execute_result"
    }
   ],
   "source": [
    "data.Call.loc[data.Call > 10].describe()"
   ]
  },
  {
   "cell_type": "code",
   "execution_count": 22,
   "metadata": {
    "collapsed": false
   },
   "outputs": [
    {
     "data": {
      "image/png": "[encoded data removed]",
      "text/plain": [
       "<matplotlib.figure.Figure at 0x114ceba58>"
      ]
     },
     "metadata": {},
     "output_type": "display_data"
    }
   ],
   "source": [
    "fig = plt.figure(figsize=[20,8])\n",
    "ax1 = fig.add_subplot(1,2,1)\n",
    "data.loc[data.Call > 10].plot(kind='hist', bins = 200, ax = ax1)\n",
    "\n",
    "ax2 = fig.add_subplot(1,2,2)\n",
    "data.loc[data.Call > 10].plot(kind='box', ax = ax2)\n",
    "plt.show()"
   ]
  },
  {
   "cell_type": "markdown",
   "metadata": {},
   "source": [
    "**11부터 396(max)까지의 분포는 위와 같다. 16이하의 값이 전체의 1/4를 차지하고 있고 왜도가 높은 분포는 달라지지 않는다.**"
   ]
  },
  {
   "cell_type": "code",
   "execution_count": 23,
   "metadata": {
    "collapsed": false
   },
   "outputs": [
    {
     "name": "stdout",
     "output_type": "stream",
     "text": [
      "(29569, 9)\n"
     ]
    },
    {
     "data": {
      "text/html": [
       "<div>\n",
       "<table border=\"1\" class=\"dataframe\">\n",
       "  <thead>\n",
       "    <tr style=\"text-align: right;\">\n",
       "      <th></th>\n",
       "      <th>Day_of_week</th>\n",
       "      <th>Gender</th>\n",
       "      <th>Age</th>\n",
       "      <th>Loc_mid</th>\n",
       "      <th>Loc_small</th>\n",
       "      <th>Call</th>\n",
       "      <th>Year</th>\n",
       "      <th>Month</th>\n",
       "      <th>Day</th>\n",
       "    </tr>\n",
       "  </thead>\n",
       "  <tbody>\n",
       "    <tr>\n",
       "      <th>4</th>\n",
       "      <td>토</td>\n",
       "      <td>여</td>\n",
       "      <td>60대이상</td>\n",
       "      <td>강남구</td>\n",
       "      <td>신사동</td>\n",
       "      <td>5</td>\n",
       "      <td>2017</td>\n",
       "      <td>04</td>\n",
       "      <td>01</td>\n",
       "    </tr>\n",
       "    <tr>\n",
       "      <th>5</th>\n",
       "      <td>토</td>\n",
       "      <td>남</td>\n",
       "      <td>60대이상</td>\n",
       "      <td>강남구</td>\n",
       "      <td>논현동</td>\n",
       "      <td>5</td>\n",
       "      <td>2017</td>\n",
       "      <td>04</td>\n",
       "      <td>01</td>\n",
       "    </tr>\n",
       "    <tr>\n",
       "      <th>6</th>\n",
       "      <td>토</td>\n",
       "      <td>남</td>\n",
       "      <td>30대</td>\n",
       "      <td>강남구</td>\n",
       "      <td>대치동</td>\n",
       "      <td>5</td>\n",
       "      <td>2017</td>\n",
       "      <td>04</td>\n",
       "      <td>01</td>\n",
       "    </tr>\n",
       "    <tr>\n",
       "      <th>7</th>\n",
       "      <td>토</td>\n",
       "      <td>여</td>\n",
       "      <td>10대</td>\n",
       "      <td>강남구</td>\n",
       "      <td>역삼동</td>\n",
       "      <td>5</td>\n",
       "      <td>2017</td>\n",
       "      <td>04</td>\n",
       "      <td>01</td>\n",
       "    </tr>\n",
       "    <tr>\n",
       "      <th>8</th>\n",
       "      <td>토</td>\n",
       "      <td>여</td>\n",
       "      <td>10대</td>\n",
       "      <td>강남구</td>\n",
       "      <td>도곡동</td>\n",
       "      <td>5</td>\n",
       "      <td>2017</td>\n",
       "      <td>04</td>\n",
       "      <td>01</td>\n",
       "    </tr>\n",
       "  </tbody>\n",
       "</table>\n",
       "</div>"
      ],
      "text/plain": [
       "  Day_of_week Gender    Age Loc_mid Loc_small  Call  Year Month Day\n",
       "4           토      여  60대이상     강남구       신사동     5  2017    04  01\n",
       "5           토      남  60대이상     강남구       논현동     5  2017    04  01\n",
       "6           토      남    30대     강남구       대치동     5  2017    04  01\n",
       "7           토      여    10대     강남구       역삼동     5  2017    04  01\n",
       "8           토      여    10대     강남구       도곡동     5  2017    04  01"
      ]
     },
     "execution_count": 23,
     "metadata": {},
     "output_type": "execute_result"
    }
   ],
   "source": [
    "# 전체 자료의 75%는 10이하이기 때문에 살펴본다.\n",
    "\n",
    "print(data.loc[data.Call <= 10].shape)\n",
    "data.loc[data.Call <= 10].head()"
   ]
  },
  {
   "cell_type": "code",
   "execution_count": 24,
   "metadata": {
    "collapsed": false
   },
   "outputs": [
    {
     "data": {
      "image/png": "[encoded data removed]",
      "text/plain": [
       "<matplotlib.figure.Figure at 0x114579320>"
      ]
     },
     "metadata": {},
     "output_type": "display_data"
    }
   ],
   "source": [
    "fig = plt.figure(figsize=[20,8])\n",
    "ax1 = fig.add_subplot(1,2,1)\n",
    "data.loc[data.Call <= 10].plot(kind='hist', ax = ax1)\n",
    "\n",
    "ax2 = fig.add_subplot(1,2,2)\n",
    "data.loc[data.Call <= 10].plot(kind='box', ax = ax2)\n",
    "plt.show()"
   ]
  },
  {
   "cell_type": "code",
   "execution_count": 25,
   "metadata": {
    "collapsed": false
   },
   "outputs": [
    {
     "name": "stdout",
     "output_type": "stream",
     "text": [
      "(24651, 9)\n"
     ]
    },
    {
     "data": {
      "text/html": [
       "<div>\n",
       "<table border=\"1\" class=\"dataframe\">\n",
       "  <thead>\n",
       "    <tr style=\"text-align: right;\">\n",
       "      <th></th>\n",
       "      <th>Day_of_week</th>\n",
       "      <th>Gender</th>\n",
       "      <th>Age</th>\n",
       "      <th>Loc_mid</th>\n",
       "      <th>Loc_small</th>\n",
       "      <th>Call</th>\n",
       "      <th>Year</th>\n",
       "      <th>Month</th>\n",
       "      <th>Day</th>\n",
       "    </tr>\n",
       "  </thead>\n",
       "  <tbody>\n",
       "    <tr>\n",
       "      <th>4</th>\n",
       "      <td>토</td>\n",
       "      <td>여</td>\n",
       "      <td>60대이상</td>\n",
       "      <td>강남구</td>\n",
       "      <td>신사동</td>\n",
       "      <td>5</td>\n",
       "      <td>2017</td>\n",
       "      <td>04</td>\n",
       "      <td>01</td>\n",
       "    </tr>\n",
       "    <tr>\n",
       "      <th>5</th>\n",
       "      <td>토</td>\n",
       "      <td>남</td>\n",
       "      <td>60대이상</td>\n",
       "      <td>강남구</td>\n",
       "      <td>논현동</td>\n",
       "      <td>5</td>\n",
       "      <td>2017</td>\n",
       "      <td>04</td>\n",
       "      <td>01</td>\n",
       "    </tr>\n",
       "    <tr>\n",
       "      <th>6</th>\n",
       "      <td>토</td>\n",
       "      <td>남</td>\n",
       "      <td>30대</td>\n",
       "      <td>강남구</td>\n",
       "      <td>대치동</td>\n",
       "      <td>5</td>\n",
       "      <td>2017</td>\n",
       "      <td>04</td>\n",
       "      <td>01</td>\n",
       "    </tr>\n",
       "    <tr>\n",
       "      <th>7</th>\n",
       "      <td>토</td>\n",
       "      <td>여</td>\n",
       "      <td>10대</td>\n",
       "      <td>강남구</td>\n",
       "      <td>역삼동</td>\n",
       "      <td>5</td>\n",
       "      <td>2017</td>\n",
       "      <td>04</td>\n",
       "      <td>01</td>\n",
       "    </tr>\n",
       "    <tr>\n",
       "      <th>8</th>\n",
       "      <td>토</td>\n",
       "      <td>여</td>\n",
       "      <td>10대</td>\n",
       "      <td>강남구</td>\n",
       "      <td>도곡동</td>\n",
       "      <td>5</td>\n",
       "      <td>2017</td>\n",
       "      <td>04</td>\n",
       "      <td>01</td>\n",
       "    </tr>\n",
       "  </tbody>\n",
       "</table>\n",
       "</div>"
      ],
      "text/plain": [
       "  Day_of_week Gender    Age Loc_mid Loc_small  Call  Year Month Day\n",
       "4           토      여  60대이상     강남구       신사동     5  2017    04  01\n",
       "5           토      남  60대이상     강남구       논현동     5  2017    04  01\n",
       "6           토      남    30대     강남구       대치동     5  2017    04  01\n",
       "7           토      여    10대     강남구       역삼동     5  2017    04  01\n",
       "8           토      여    10대     강남구       도곡동     5  2017    04  01"
      ]
     },
     "execution_count": 25,
     "metadata": {},
     "output_type": "execute_result"
    }
   ],
   "source": [
    "# 전체 자료의 50%는 5이기 때문에 살펴본다.(5이하의 값은 존재하지 않는다고 홈페이지에 명시돼있다.)\n",
    "\n",
    "print(data.loc[data.Call == 5].shape)\n",
    "data.loc[data.Call == 5].head()"
   ]
  },
  {
   "cell_type": "code",
   "execution_count": 26,
   "metadata": {
    "collapsed": false
   },
   "outputs": [
    {
     "name": "stdout",
     "output_type": "stream",
     "text": [
      "(4240, 9)\n"
     ]
    },
    {
     "data": {
      "text/html": [
       "<div>\n",
       "<table border=\"1\" class=\"dataframe\">\n",
       "  <thead>\n",
       "    <tr style=\"text-align: right;\">\n",
       "      <th></th>\n",
       "      <th>Day_of_week</th>\n",
       "      <th>Gender</th>\n",
       "      <th>Age</th>\n",
       "      <th>Loc_mid</th>\n",
       "      <th>Loc_small</th>\n",
       "      <th>Call</th>\n",
       "      <th>Year</th>\n",
       "      <th>Month</th>\n",
       "      <th>Day</th>\n",
       "    </tr>\n",
       "  </thead>\n",
       "  <tbody>\n",
       "    <tr>\n",
       "      <th>10</th>\n",
       "      <td>토</td>\n",
       "      <td>남</td>\n",
       "      <td>10대</td>\n",
       "      <td>강남구</td>\n",
       "      <td>개포동</td>\n",
       "      <td>6</td>\n",
       "      <td>2017</td>\n",
       "      <td>04</td>\n",
       "      <td>01</td>\n",
       "    </tr>\n",
       "    <tr>\n",
       "      <th>14</th>\n",
       "      <td>토</td>\n",
       "      <td>여</td>\n",
       "      <td>50대</td>\n",
       "      <td>강남구</td>\n",
       "      <td>개포동</td>\n",
       "      <td>6</td>\n",
       "      <td>2017</td>\n",
       "      <td>04</td>\n",
       "      <td>01</td>\n",
       "    </tr>\n",
       "    <tr>\n",
       "      <th>18</th>\n",
       "      <td>토</td>\n",
       "      <td>여</td>\n",
       "      <td>30대</td>\n",
       "      <td>강남구</td>\n",
       "      <td>수서동</td>\n",
       "      <td>6</td>\n",
       "      <td>2017</td>\n",
       "      <td>04</td>\n",
       "      <td>01</td>\n",
       "    </tr>\n",
       "    <tr>\n",
       "      <th>20</th>\n",
       "      <td>토</td>\n",
       "      <td>여</td>\n",
       "      <td>60대이상</td>\n",
       "      <td>강남구</td>\n",
       "      <td>개포동</td>\n",
       "      <td>6</td>\n",
       "      <td>2017</td>\n",
       "      <td>04</td>\n",
       "      <td>01</td>\n",
       "    </tr>\n",
       "    <tr>\n",
       "      <th>25</th>\n",
       "      <td>토</td>\n",
       "      <td>남</td>\n",
       "      <td>20대</td>\n",
       "      <td>강남구</td>\n",
       "      <td>일원동</td>\n",
       "      <td>9</td>\n",
       "      <td>2017</td>\n",
       "      <td>04</td>\n",
       "      <td>01</td>\n",
       "    </tr>\n",
       "  </tbody>\n",
       "</table>\n",
       "</div>"
      ],
      "text/plain": [
       "   Day_of_week Gender    Age Loc_mid Loc_small  Call  Year Month Day\n",
       "10           토      남    10대     강남구       개포동     6  2017    04  01\n",
       "14           토      여    50대     강남구       개포동     6  2017    04  01\n",
       "18           토      여    30대     강남구       수서동     6  2017    04  01\n",
       "20           토      여  60대이상     강남구       개포동     6  2017    04  01\n",
       "25           토      남    20대     강남구       일원동     9  2017    04  01"
      ]
     },
     "execution_count": 26,
     "metadata": {},
     "output_type": "execute_result"
    }
   ],
   "source": [
    "print(data.loc[(data.Call > 5)&(data.Call < 10)].shape)\n",
    "data.loc[(data.Call > 5)&(data.Call < 10)].head()"
   ]
  },
  {
   "cell_type": "code",
   "execution_count": 27,
   "metadata": {
    "collapsed": false
   },
   "outputs": [
    {
     "data": {
      "image/png": "[encoded data removed]",
      "text/plain": [
       "<matplotlib.figure.Figure at 0x114b92eb8>"
      ]
     },
     "metadata": {},
     "output_type": "display_data"
    }
   ],
   "source": [
    "fig = plt.figure(figsize=[20,8])\n",
    "ax1 = fig.add_subplot(1,2,1)\n",
    "data.loc[(data.Call > 5)&(data.Call < 10)].plot(kind='hist', ax = ax1)\n",
    "\n",
    "ax2 = fig.add_subplot(1,2,2)\n",
    "data.loc[(data.Call > 5)&(data.Call < 10)].plot(kind='box', ax = ax2)\n",
    "plt.show()"
   ]
  },
  {
   "cell_type": "markdown",
   "metadata": {
    "collapsed": true
   },
   "source": [
    "**Call 변수를 살펴본 후 생각**\n",
    "\n",
    "**데이터에 대한 가설(H0) :  한 행이 == 한 사람**\n",
    "\n",
    "처음에는 이렇게 생각했는데 Call변수를 보면 Call 수가 396번인 경우 또한 10이상의 경우가 전체의 25%를 차지했다. 따라서 기존 가설인 H0이 틀릴 가능성이 높아졌다. 따라서 기존 가설을 삭제하고 새로운 가설을 아래와 같이 세웠다.\n",
    "\n",
    "**새로운 데이터에 대한 가설(H1) : Call변수는 지역과 성별,나이에 대한 합계치이다.[aggregation(func = Sum/count) 된 값]**\n",
    "\n",
    "이를 증명하기 위해 groupby 매소드를 사용해서 확인해 보자"
   ]
  },
  {
   "cell_type": "code",
   "execution_count": 28,
   "metadata": {
    "collapsed": true
   },
   "outputs": [],
   "source": [
    "gb_data = data.groupby('Day')"
   ]
  },
  {
   "cell_type": "code",
   "execution_count": 43,
   "metadata": {
    "collapsed": false
   },
   "outputs": [
    {
     "data": {
      "text/html": [
       "<div>\n",
       "<table border=\"1\" class=\"dataframe\">\n",
       "  <thead>\n",
       "    <tr style=\"text-align: right;\">\n",
       "      <th></th>\n",
       "      <th>Age</th>\n",
       "      <th>Call</th>\n",
       "      <th>Day_of_week</th>\n",
       "      <th>Gender</th>\n",
       "      <th>Loc_mid</th>\n",
       "      <th>Loc_small</th>\n",
       "      <th>Month</th>\n",
       "      <th>Year</th>\n",
       "    </tr>\n",
       "  </thead>\n",
       "  <tbody>\n",
       "    <tr>\n",
       "      <th>0</th>\n",
       "      <td>40대</td>\n",
       "      <td>17</td>\n",
       "      <td>토</td>\n",
       "      <td>여</td>\n",
       "      <td>강남구</td>\n",
       "      <td>대치동</td>\n",
       "      <td>04</td>\n",
       "      <td>2017</td>\n",
       "    </tr>\n",
       "    <tr>\n",
       "      <th>6</th>\n",
       "      <td>30대</td>\n",
       "      <td>5</td>\n",
       "      <td>토</td>\n",
       "      <td>남</td>\n",
       "      <td>강남구</td>\n",
       "      <td>대치동</td>\n",
       "      <td>04</td>\n",
       "      <td>2017</td>\n",
       "    </tr>\n",
       "    <tr>\n",
       "      <th>49</th>\n",
       "      <td>40대</td>\n",
       "      <td>5</td>\n",
       "      <td>토</td>\n",
       "      <td>남</td>\n",
       "      <td>강남구</td>\n",
       "      <td>대치동</td>\n",
       "      <td>04</td>\n",
       "      <td>2017</td>\n",
       "    </tr>\n",
       "    <tr>\n",
       "      <th>54</th>\n",
       "      <td>30대</td>\n",
       "      <td>5</td>\n",
       "      <td>토</td>\n",
       "      <td>여</td>\n",
       "      <td>강남구</td>\n",
       "      <td>대치동</td>\n",
       "      <td>04</td>\n",
       "      <td>2017</td>\n",
       "    </tr>\n",
       "    <tr>\n",
       "      <th>64</th>\n",
       "      <td>20대</td>\n",
       "      <td>5</td>\n",
       "      <td>토</td>\n",
       "      <td>여</td>\n",
       "      <td>강남구</td>\n",
       "      <td>대치동</td>\n",
       "      <td>04</td>\n",
       "      <td>2017</td>\n",
       "    </tr>\n",
       "    <tr>\n",
       "      <th>66</th>\n",
       "      <td>50대</td>\n",
       "      <td>5</td>\n",
       "      <td>토</td>\n",
       "      <td>여</td>\n",
       "      <td>강남구</td>\n",
       "      <td>대치동</td>\n",
       "      <td>04</td>\n",
       "      <td>2017</td>\n",
       "    </tr>\n",
       "    <tr>\n",
       "      <th>73</th>\n",
       "      <td>10대</td>\n",
       "      <td>6</td>\n",
       "      <td>토</td>\n",
       "      <td>남</td>\n",
       "      <td>강남구</td>\n",
       "      <td>대치동</td>\n",
       "      <td>04</td>\n",
       "      <td>2017</td>\n",
       "    </tr>\n",
       "    <tr>\n",
       "      <th>87</th>\n",
       "      <td>10대</td>\n",
       "      <td>5</td>\n",
       "      <td>토</td>\n",
       "      <td>여</td>\n",
       "      <td>강남구</td>\n",
       "      <td>대치동</td>\n",
       "      <td>04</td>\n",
       "      <td>2017</td>\n",
       "    </tr>\n",
       "    <tr>\n",
       "      <th>99</th>\n",
       "      <td>20대</td>\n",
       "      <td>5</td>\n",
       "      <td>토</td>\n",
       "      <td>남</td>\n",
       "      <td>강남구</td>\n",
       "      <td>대치동</td>\n",
       "      <td>04</td>\n",
       "      <td>2017</td>\n",
       "    </tr>\n",
       "    <tr>\n",
       "      <th>101</th>\n",
       "      <td>50대</td>\n",
       "      <td>5</td>\n",
       "      <td>토</td>\n",
       "      <td>남</td>\n",
       "      <td>강남구</td>\n",
       "      <td>대치동</td>\n",
       "      <td>04</td>\n",
       "      <td>2017</td>\n",
       "    </tr>\n",
       "  </tbody>\n",
       "</table>\n",
       "</div>"
      ],
      "text/plain": [
       "     Age  Call Day_of_week Gender Loc_mid Loc_small Month  Year\n",
       "0    40대    17           토      여     강남구       대치동    04  2017\n",
       "6    30대     5           토      남     강남구       대치동    04  2017\n",
       "49   40대     5           토      남     강남구       대치동    04  2017\n",
       "54   30대     5           토      여     강남구       대치동    04  2017\n",
       "64   20대     5           토      여     강남구       대치동    04  2017\n",
       "66   50대     5           토      여     강남구       대치동    04  2017\n",
       "73   10대     6           토      남     강남구       대치동    04  2017\n",
       "87   10대     5           토      여     강남구       대치동    04  2017\n",
       "99   20대     5           토      남     강남구       대치동    04  2017\n",
       "101  50대     5           토      남     강남구       대치동    04  2017"
      ]
     },
     "execution_count": 43,
     "metadata": {},
     "output_type": "execute_result"
    }
   ],
   "source": [
    "gb_data.get_group('01').loc[gb_data.get_group('01').Loc_small == \"대치동\"]"
   ]
  },
  {
   "cell_type": "markdown",
   "metadata": {},
   "source": [
    "**코드 실행 후 생각: Call변수는 5이하는 모두 5로 처리한다.(홈페이지 참조) 때문에 콜수가 0이어도 5로 처리하는지 아니면 집계하지 않았는지 확인할 필요성을 느꼈다. 전자의 경우 모든 날짜마다 행수가 같을 것이며 후자의 경우 행수가 다를것이다.**\n",
    "\n",
    "H1 추가 가설: Call 수가 0일 경우 집계되지 않는다."
   ]
  },
  {
   "cell_type": "code",
   "execution_count": 45,
   "metadata": {
    "collapsed": false
   },
   "outputs": [
    {
     "data": {
      "text/html": [
       "<div>\n",
       "<table border=\"1\" class=\"dataframe\">\n",
       "  <thead>\n",
       "    <tr style=\"text-align: right;\">\n",
       "      <th></th>\n",
       "      <th>Day_of_week</th>\n",
       "      <th>Gender</th>\n",
       "      <th>Age</th>\n",
       "      <th>Loc_mid</th>\n",
       "      <th>Loc_small</th>\n",
       "      <th>Call</th>\n",
       "      <th>Year</th>\n",
       "      <th>Month</th>\n",
       "    </tr>\n",
       "    <tr>\n",
       "      <th>Day</th>\n",
       "      <th></th>\n",
       "      <th></th>\n",
       "      <th></th>\n",
       "      <th></th>\n",
       "      <th></th>\n",
       "      <th></th>\n",
       "      <th></th>\n",
       "      <th></th>\n",
       "    </tr>\n",
       "  </thead>\n",
       "  <tbody>\n",
       "    <tr>\n",
       "      <th>01</th>\n",
       "      <td>1416</td>\n",
       "      <td>1416</td>\n",
       "      <td>1416</td>\n",
       "      <td>1416</td>\n",
       "      <td>1416</td>\n",
       "      <td>1416</td>\n",
       "      <td>1416</td>\n",
       "      <td>1416</td>\n",
       "    </tr>\n",
       "    <tr>\n",
       "      <th>02</th>\n",
       "      <td>1391</td>\n",
       "      <td>1391</td>\n",
       "      <td>1391</td>\n",
       "      <td>1391</td>\n",
       "      <td>1391</td>\n",
       "      <td>1391</td>\n",
       "      <td>1391</td>\n",
       "      <td>1391</td>\n",
       "    </tr>\n",
       "    <tr>\n",
       "      <th>03</th>\n",
       "      <td>1198</td>\n",
       "      <td>1198</td>\n",
       "      <td>1198</td>\n",
       "      <td>1198</td>\n",
       "      <td>1198</td>\n",
       "      <td>1198</td>\n",
       "      <td>1198</td>\n",
       "      <td>1198</td>\n",
       "    </tr>\n",
       "    <tr>\n",
       "      <th>04</th>\n",
       "      <td>1222</td>\n",
       "      <td>1222</td>\n",
       "      <td>1222</td>\n",
       "      <td>1222</td>\n",
       "      <td>1222</td>\n",
       "      <td>1222</td>\n",
       "      <td>1222</td>\n",
       "      <td>1222</td>\n",
       "    </tr>\n",
       "    <tr>\n",
       "      <th>05</th>\n",
       "      <td>1325</td>\n",
       "      <td>1325</td>\n",
       "      <td>1325</td>\n",
       "      <td>1325</td>\n",
       "      <td>1325</td>\n",
       "      <td>1325</td>\n",
       "      <td>1325</td>\n",
       "      <td>1325</td>\n",
       "    </tr>\n",
       "  </tbody>\n",
       "</table>\n",
       "</div>"
      ],
      "text/plain": [
       "     Day_of_week  Gender   Age  Loc_mid  Loc_small  Call  Year  Month\n",
       "Day                                                                  \n",
       "01          1416    1416  1416     1416       1416  1416  1416   1416\n",
       "02          1391    1391  1391     1391       1391  1391  1391   1391\n",
       "03          1198    1198  1198     1198       1198  1198  1198   1198\n",
       "04          1222    1222  1222     1222       1222  1222  1222   1222\n",
       "05          1325    1325  1325     1325       1325  1325  1325   1325"
      ]
     },
     "execution_count": 45,
     "metadata": {},
     "output_type": "execute_result"
    }
   ],
   "source": [
    "gb_data.count().head()"
   ]
  },
  {
   "cell_type": "markdown",
   "metadata": {},
   "source": [
    "**새로운 데이터에 대한 가설(H1) : Call변수는 지역과 성별,나이에 대한 합계치이다.[aggregation(func = Sum/count) 된 값]**\n",
    "\n",
    "데이터를 좀 더 자세하게 살펴본 결과 4월1일 대치동에서 40대 여성에 대해 중복값이 없는 것을 알 수 있다. 따라서 H1을 채택할 수 밖에 없다. 또한 상단의 히스토그램과 실제 살펴본 데이터 테이블의 결과로 부터 H1추가가설이 맞음을 알 수 있다. 따라서 데이터는 콜수가 0일 경우 집계되지 않으며 일단 call수가 5인 행의 경우 1번이라도 콜수가 있었음을 가정할 수 있다. 다만 한계점은 단지 발신 버튼이 눌려 기지국에 신호가 전송됐으나 실제로 구매로 이어졌는지 확인 할 길이 없다는 것이다. 따라서 **일단 콜수가 있었다는 것은 구매의사가 있었다는 것으로 가정해야 할 것이다[\"가정01\"].**\n",
    "\n",
    "** 결과 : H1에 대한 가설을 채택했기 때문에 결국에는 단일 데이터 시트로는 2차적 인사이트를 발견하기 어렵다는 것을 발견. 치킨 데이터들을 매쉬업 하여 사용하여 시간에 따른 정보를 추가함과 동시에 다른 데이터와 결합하여 인사이트를 발견하는 것이 필요하다. 또한 연속형 Call변수에 대하여 양자화를 통해 정보를 재 구성해야 한다는 것을 느꼈다.**"
   ]
  }
 ],
 "metadata": {
  "anaconda-cloud": {},
  "kernelspec": {
   "display_name": "Python [conda root]",
   "language": "python",
   "name": "conda-root-py"
  },
  "language_info": {
   "codemirror_mode": {
    "name": "ipython",
    "version": 3
   },
   "file_extension": ".py",
   "mimetype": "text/x-python",
   "name": "python",
   "nbconvert_exporter": "python",
   "pygments_lexer": "ipython3",
   "version": "3.5.2"
  }
 },
 "nbformat": 4,
 "nbformat_minor": 1
}
